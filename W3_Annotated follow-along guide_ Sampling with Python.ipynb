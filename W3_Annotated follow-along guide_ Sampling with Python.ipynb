{
 "cells": [
  {
   "cell_type": "markdown",
   "metadata": {
    "id": "WHnmoIpkhFKY"
   },
   "source": [
    "# Sampling with Python\n",
    "\n",
    "Throughout the following exercises, you will learn to use Python to simulate random sampling and make a point estimate of a population mean based on your sample data. Before starting on this programming exercise, we strongly recommend watching the video lecture and completing the IVQ for the associated topics."
   ]
  },
  {
   "cell_type": "markdown",
   "metadata": {
    "id": "s5QMBaFu46DI"
   },
   "source": [
    "All the information you need for solving this assignment is in this notebook, and all the code you will be implementing will take place within this notebook. "
   ]
  },
  {
   "cell_type": "markdown",
   "metadata": {
    "id": "BDOjUYOD5OKI"
   },
   "source": [
    "As we move forward, you can find instructions on how to install required libraries as they arise in this notebook. Before we begin with the exercises and analyzing the data, we need to import all libraries and extensions required for this programming exercise. Throughout the course, we will be using numpy, pandas, scipy stats, and statsmodels for operations, and matplotlib for plotting."
   ]
  },
  {
   "cell_type": "code",
   "execution_count": 1,
   "metadata": {
    "id": "LJNww_QUkZFx"
   },
   "outputs": [],
   "source": [
    "import numpy as np\n",
    "import pandas as pd\n",
    "import matplotlib.pyplot as plt\n",
    "from scipy import stats\n",
    "import statsmodels.api as sm"
   ]
  },
  {
   "cell_type": "code",
   "execution_count": 2,
   "metadata": {
    "id": "X39qUy_1kOqz"
   },
   "outputs": [],
   "source": [
    "education_districtwise = pd.read_csv('education_districtwise.csv')\n",
    "education_districtwise = education_districtwise.dropna()\n"
   ]
  },
  {
   "cell_type": "markdown",
   "metadata": {
    "id": "UF9dc_me60J_"
   },
   "source": [
    "We’ll continue with our previous scenario, in which you’re a data professional working for the Department of Education of a large nation. Recall that you’re analyzing data on the literacy rate for each district.\n",
    "\n",
    "Now imagine that you are asked to *collect* the data on district literacy rates, and that you have limited time to do so. You can only survey 50 randomly chosen districts, instead of the 634 districts included in your original dataset. The goal of your research study is to estimate the mean literacy rate for *all* 634 districts based on your sample of 50 districts. \n",
    "\n",
    "\n"
   ]
  },
  {
   "cell_type": "markdown",
   "metadata": {
    "id": "b_1kJ6JokqBy"
   },
   "source": [
    "## Simulate random sampling\n",
    "\n",
    "You can use Python to simulate taking a random sample of 50 districts from your dataset. To do this, use`pandas.DataFrame.sample()`. The following arguments in the `sample()` function will help you simulate random sampling: \n",
    "\n",
    "*   `n`: Refers to the desired sample size\n",
    "*   `replace`: Indicates whether you are sampling with or without replacement\n",
    "*   `random_state`: Refers to the seed of the random number\n",
    "\n",
    "Reference: https://pandas.pydata.org/docs/reference/api/pandas.DataFrame.sample.html.\n",
    "\n",
    "**Note:**  A **random seed** is a starting point for generating random numbers. You can use any arbitrary number to fix the random seed, and give the random number generator a starting point. Also, going forward, you can use the same random seed to generate the same set of numbers."
   ]
  },
  {
   "cell_type": "markdown",
   "metadata": {
    "id": "CX2VCRQ8r3oh"
   },
   "source": [
    "Now you’re ready to write your code. First, name a new variable `sampled_data`. Then, set the arguments for the `sample()` function:  \n",
    "\n",
    "*   `n`: You're sampling from 50 districts, so your sample size is `50`. \n",
    "*   `replace`: For the purpose of our example, you'll sample *with* replacement. `True` indicates sampling with replacement. \n",
    "*   `random_state`: Choose an arbitrary number for your random seed. Say, `31208`. \n",
    "\n"
   ]
  },
  {
   "cell_type": "code",
   "execution_count": 3,
   "metadata": {
    "id": "3lRqSyCVkzBc"
   },
   "outputs": [
    {
     "data": {
      "text/html": [
       "<div>\n",
       "<style scoped>\n",
       "    .dataframe tbody tr th:only-of-type {\n",
       "        vertical-align: middle;\n",
       "    }\n",
       "\n",
       "    .dataframe tbody tr th {\n",
       "        vertical-align: top;\n",
       "    }\n",
       "\n",
       "    .dataframe thead th {\n",
       "        text-align: right;\n",
       "    }\n",
       "</style>\n",
       "<table border=\"1\" class=\"dataframe\">\n",
       "  <thead>\n",
       "    <tr style=\"text-align: right;\">\n",
       "      <th></th>\n",
       "      <th>DISTNAME</th>\n",
       "      <th>STATNAME</th>\n",
       "      <th>BLOCKS</th>\n",
       "      <th>VILLAGES</th>\n",
       "      <th>CLUSTERS</th>\n",
       "      <th>TOTPOPULAT</th>\n",
       "      <th>OVERALL_LI</th>\n",
       "    </tr>\n",
       "  </thead>\n",
       "  <tbody>\n",
       "    <tr>\n",
       "      <th>661</th>\n",
       "      <td>DISTRICT528</td>\n",
       "      <td>STATE6</td>\n",
       "      <td>9</td>\n",
       "      <td>112</td>\n",
       "      <td>89</td>\n",
       "      <td>1863174.0</td>\n",
       "      <td>92.14</td>\n",
       "    </tr>\n",
       "    <tr>\n",
       "      <th>216</th>\n",
       "      <td>DISTRICT291</td>\n",
       "      <td>STATE28</td>\n",
       "      <td>14</td>\n",
       "      <td>1188</td>\n",
       "      <td>165</td>\n",
       "      <td>3273127.0</td>\n",
       "      <td>52.49</td>\n",
       "    </tr>\n",
       "    <tr>\n",
       "      <th>367</th>\n",
       "      <td>DISTRICT66</td>\n",
       "      <td>STATE23</td>\n",
       "      <td>12</td>\n",
       "      <td>1169</td>\n",
       "      <td>116</td>\n",
       "      <td>1042304.0</td>\n",
       "      <td>62.14</td>\n",
       "    </tr>\n",
       "    <tr>\n",
       "      <th>254</th>\n",
       "      <td>DISTRICT458</td>\n",
       "      <td>STATE3</td>\n",
       "      <td>3</td>\n",
       "      <td>157</td>\n",
       "      <td>19</td>\n",
       "      <td>82839.0</td>\n",
       "      <td>76.33</td>\n",
       "    </tr>\n",
       "    <tr>\n",
       "      <th>286</th>\n",
       "      <td>DISTRICT636</td>\n",
       "      <td>STATE35</td>\n",
       "      <td>3</td>\n",
       "      <td>187</td>\n",
       "      <td>44</td>\n",
       "      <td>514683.0</td>\n",
       "      <td>86.70</td>\n",
       "    </tr>\n",
       "    <tr>\n",
       "      <th>369</th>\n",
       "      <td>DISTRICT512</td>\n",
       "      <td>STATE23</td>\n",
       "      <td>6</td>\n",
       "      <td>589</td>\n",
       "      <td>30</td>\n",
       "      <td>717169.0</td>\n",
       "      <td>68.35</td>\n",
       "    </tr>\n",
       "    <tr>\n",
       "      <th>258</th>\n",
       "      <td>DISTRICT156</td>\n",
       "      <td>STATE3</td>\n",
       "      <td>6</td>\n",
       "      <td>80</td>\n",
       "      <td>9</td>\n",
       "      <td>35289.0</td>\n",
       "      <td>59.94</td>\n",
       "    </tr>\n",
       "    <tr>\n",
       "      <th>10</th>\n",
       "      <td>DISTRICT412</td>\n",
       "      <td>STATE1</td>\n",
       "      <td>11</td>\n",
       "      <td>187</td>\n",
       "      <td>95</td>\n",
       "      <td>476820.0</td>\n",
       "      <td>68.69</td>\n",
       "    </tr>\n",
       "    <tr>\n",
       "      <th>512</th>\n",
       "      <td>DISTRICT277</td>\n",
       "      <td>STATE9</td>\n",
       "      <td>10</td>\n",
       "      <td>558</td>\n",
       "      <td>179</td>\n",
       "      <td>2298934.0</td>\n",
       "      <td>84.31</td>\n",
       "    </tr>\n",
       "    <tr>\n",
       "      <th>144</th>\n",
       "      <td>DISTRICT133</td>\n",
       "      <td>STATE21</td>\n",
       "      <td>14</td>\n",
       "      <td>1672</td>\n",
       "      <td>136</td>\n",
       "      <td>3673849.0</td>\n",
       "      <td>69.61</td>\n",
       "    </tr>\n",
       "    <tr>\n",
       "      <th>325</th>\n",
       "      <td>DISTRICT1</td>\n",
       "      <td>STATE33</td>\n",
       "      <td>4</td>\n",
       "      <td>534</td>\n",
       "      <td>98</td>\n",
       "      <td>957853.0</td>\n",
       "      <td>69.37</td>\n",
       "    </tr>\n",
       "    <tr>\n",
       "      <th>227</th>\n",
       "      <td>DISTRICT159</td>\n",
       "      <td>STATE28</td>\n",
       "      <td>18</td>\n",
       "      <td>870</td>\n",
       "      <td>134</td>\n",
       "      <td>2954367.0</td>\n",
       "      <td>66.23</td>\n",
       "    </tr>\n",
       "    <tr>\n",
       "      <th>86</th>\n",
       "      <td>DISTRICT667</td>\n",
       "      <td>STATE25</td>\n",
       "      <td>5</td>\n",
       "      <td>396</td>\n",
       "      <td>75</td>\n",
       "      <td>896129.0</td>\n",
       "      <td>82.23</td>\n",
       "    </tr>\n",
       "    <tr>\n",
       "      <th>425</th>\n",
       "      <td>DISTRICT144</td>\n",
       "      <td>STATE31</td>\n",
       "      <td>7</td>\n",
       "      <td>1064</td>\n",
       "      <td>108</td>\n",
       "      <td>2662077.0</td>\n",
       "      <td>71.59</td>\n",
       "    </tr>\n",
       "    <tr>\n",
       "      <th>260</th>\n",
       "      <td>DISTRICT305</td>\n",
       "      <td>STATE3</td>\n",
       "      <td>2</td>\n",
       "      <td>62</td>\n",
       "      <td>6</td>\n",
       "      <td>145538.0</td>\n",
       "      <td>69.88</td>\n",
       "    </tr>\n",
       "    <tr>\n",
       "      <th>281</th>\n",
       "      <td>DISTRICT385</td>\n",
       "      <td>STATE35</td>\n",
       "      <td>6</td>\n",
       "      <td>531</td>\n",
       "      <td>30</td>\n",
       "      <td>354972.0</td>\n",
       "      <td>75.00</td>\n",
       "    </tr>\n",
       "    <tr>\n",
       "      <th>262</th>\n",
       "      <td>DISTRICT552</td>\n",
       "      <td>STATE3</td>\n",
       "      <td>3</td>\n",
       "      <td>103</td>\n",
       "      <td>4</td>\n",
       "      <td>111997.0</td>\n",
       "      <td>52.23</td>\n",
       "    </tr>\n",
       "    <tr>\n",
       "      <th>253</th>\n",
       "      <td>DISTRICT168</td>\n",
       "      <td>STATE3</td>\n",
       "      <td>5</td>\n",
       "      <td>312</td>\n",
       "      <td>16</td>\n",
       "      <td>176385.0</td>\n",
       "      <td>82.14</td>\n",
       "    </tr>\n",
       "    <tr>\n",
       "      <th>301</th>\n",
       "      <td>DISTRICT551</td>\n",
       "      <td>STATE14</td>\n",
       "      <td>9</td>\n",
       "      <td>103</td>\n",
       "      <td>63</td>\n",
       "      <td>693281.0</td>\n",
       "      <td>88.29</td>\n",
       "    </tr>\n",
       "    <tr>\n",
       "      <th>356</th>\n",
       "      <td>DISTRICT494</td>\n",
       "      <td>STATE34</td>\n",
       "      <td>25</td>\n",
       "      <td>2179</td>\n",
       "      <td>223</td>\n",
       "      <td>3596292.0</td>\n",
       "      <td>70.95</td>\n",
       "    </tr>\n",
       "    <tr>\n",
       "      <th>165</th>\n",
       "      <td>DISTRICT196</td>\n",
       "      <td>STATE21</td>\n",
       "      <td>10</td>\n",
       "      <td>1354</td>\n",
       "      <td>119</td>\n",
       "      <td>1795092.0</td>\n",
       "      <td>77.52</td>\n",
       "    </tr>\n",
       "    <tr>\n",
       "      <th>565</th>\n",
       "      <td>DISTRICT308</td>\n",
       "      <td>STATE17</td>\n",
       "      <td>8</td>\n",
       "      <td>721</td>\n",
       "      <td>144</td>\n",
       "      <td>848868.0</td>\n",
       "      <td>86.54</td>\n",
       "    </tr>\n",
       "    <tr>\n",
       "      <th>388</th>\n",
       "      <td>DISTRICT281</td>\n",
       "      <td>STATE23</td>\n",
       "      <td>6</td>\n",
       "      <td>392</td>\n",
       "      <td>58</td>\n",
       "      <td>949159.0</td>\n",
       "      <td>73.92</td>\n",
       "    </tr>\n",
       "    <tr>\n",
       "      <th>461</th>\n",
       "      <td>DISTRICT619</td>\n",
       "      <td>STATE22</td>\n",
       "      <td>5</td>\n",
       "      <td>859</td>\n",
       "      <td>57</td>\n",
       "      <td>1064989.0</td>\n",
       "      <td>68.36</td>\n",
       "    </tr>\n",
       "    <tr>\n",
       "      <th>384</th>\n",
       "      <td>DISTRICT455</td>\n",
       "      <td>STATE23</td>\n",
       "      <td>9</td>\n",
       "      <td>1217</td>\n",
       "      <td>55</td>\n",
       "      <td>1063458.0</td>\n",
       "      <td>68.85</td>\n",
       "    </tr>\n",
       "    <tr>\n",
       "      <th>590</th>\n",
       "      <td>DISTRICT70</td>\n",
       "      <td>STATE20</td>\n",
       "      <td>7</td>\n",
       "      <td>427</td>\n",
       "      <td>84</td>\n",
       "      <td>1846993.0</td>\n",
       "      <td>80.30</td>\n",
       "    </tr>\n",
       "    <tr>\n",
       "      <th>343</th>\n",
       "      <td>DISTRICT354</td>\n",
       "      <td>STATE33</td>\n",
       "      <td>2</td>\n",
       "      <td>192</td>\n",
       "      <td>46</td>\n",
       "      <td>1260419.0</td>\n",
       "      <td>88.66</td>\n",
       "    </tr>\n",
       "    <tr>\n",
       "      <th>539</th>\n",
       "      <td>DISTRICT440</td>\n",
       "      <td>STATE17</td>\n",
       "      <td>15</td>\n",
       "      <td>1465</td>\n",
       "      <td>167</td>\n",
       "      <td>2887826.0</td>\n",
       "      <td>88.23</td>\n",
       "    </tr>\n",
       "    <tr>\n",
       "      <th>459</th>\n",
       "      <td>DISTRICT431</td>\n",
       "      <td>STATE22</td>\n",
       "      <td>9</td>\n",
       "      <td>1778</td>\n",
       "      <td>143</td>\n",
       "      <td>2363744.0</td>\n",
       "      <td>73.42</td>\n",
       "    </tr>\n",
       "    <tr>\n",
       "      <th>667</th>\n",
       "      <td>DISTRICT123</td>\n",
       "      <td>STATE11</td>\n",
       "      <td>3</td>\n",
       "      <td>80</td>\n",
       "      <td>16</td>\n",
       "      <td>237586.0</td>\n",
       "      <td>88.49</td>\n",
       "    </tr>\n",
       "    <tr>\n",
       "      <th>387</th>\n",
       "      <td>DISTRICT231</td>\n",
       "      <td>STATE23</td>\n",
       "      <td>6</td>\n",
       "      <td>657</td>\n",
       "      <td>63</td>\n",
       "      <td>530299.0</td>\n",
       "      <td>64.51</td>\n",
       "    </tr>\n",
       "    <tr>\n",
       "      <th>306</th>\n",
       "      <td>DISTRICT37</td>\n",
       "      <td>STATE4</td>\n",
       "      <td>7</td>\n",
       "      <td>1083</td>\n",
       "      <td>92</td>\n",
       "      <td>642923.0</td>\n",
       "      <td>68.38</td>\n",
       "    </tr>\n",
       "    <tr>\n",
       "      <th>213</th>\n",
       "      <td>DISTRICT347</td>\n",
       "      <td>STATE28</td>\n",
       "      <td>11</td>\n",
       "      <td>623</td>\n",
       "      <td>94</td>\n",
       "      <td>2228397.0</td>\n",
       "      <td>59.65</td>\n",
       "    </tr>\n",
       "    <tr>\n",
       "      <th>97</th>\n",
       "      <td>DISTRICT22</td>\n",
       "      <td>STATE2</td>\n",
       "      <td>7</td>\n",
       "      <td>182</td>\n",
       "      <td>7</td>\n",
       "      <td>2531583.0</td>\n",
       "      <td>87.12</td>\n",
       "    </tr>\n",
       "    <tr>\n",
       "      <th>78</th>\n",
       "      <td>DISTRICT247</td>\n",
       "      <td>STATE25</td>\n",
       "      <td>7</td>\n",
       "      <td>314</td>\n",
       "      <td>60</td>\n",
       "      <td>1332042.0</td>\n",
       "      <td>72.73</td>\n",
       "    </tr>\n",
       "    <tr>\n",
       "      <th>394</th>\n",
       "      <td>DISTRICT640</td>\n",
       "      <td>STATE24</td>\n",
       "      <td>17</td>\n",
       "      <td>1857</td>\n",
       "      <td>191</td>\n",
       "      <td>1802777.0</td>\n",
       "      <td>69.00</td>\n",
       "    </tr>\n",
       "    <tr>\n",
       "      <th>184</th>\n",
       "      <td>DISTRICT596</td>\n",
       "      <td>STATE21</td>\n",
       "      <td>11</td>\n",
       "      <td>1281</td>\n",
       "      <td>108</td>\n",
       "      <td>2149066.0</td>\n",
       "      <td>51.76</td>\n",
       "    </tr>\n",
       "    <tr>\n",
       "      <th>147</th>\n",
       "      <td>DISTRICT335</td>\n",
       "      <td>STATE21</td>\n",
       "      <td>17</td>\n",
       "      <td>1945</td>\n",
       "      <td>138</td>\n",
       "      <td>4380793.0</td>\n",
       "      <td>69.44</td>\n",
       "    </tr>\n",
       "    <tr>\n",
       "      <th>542</th>\n",
       "      <td>DISTRICT489</td>\n",
       "      <td>STATE17</td>\n",
       "      <td>7</td>\n",
       "      <td>749</td>\n",
       "      <td>63</td>\n",
       "      <td>1198810.0</td>\n",
       "      <td>85.14</td>\n",
       "    </tr>\n",
       "    <tr>\n",
       "      <th>105</th>\n",
       "      <td>DISTRICT157</td>\n",
       "      <td>STATE13</td>\n",
       "      <td>14</td>\n",
       "      <td>1994</td>\n",
       "      <td>508</td>\n",
       "      <td>3671999.0</td>\n",
       "      <td>71.68</td>\n",
       "    </tr>\n",
       "    <tr>\n",
       "      <th>254</th>\n",
       "      <td>DISTRICT458</td>\n",
       "      <td>STATE3</td>\n",
       "      <td>3</td>\n",
       "      <td>157</td>\n",
       "      <td>19</td>\n",
       "      <td>82839.0</td>\n",
       "      <td>76.33</td>\n",
       "    </tr>\n",
       "    <tr>\n",
       "      <th>109</th>\n",
       "      <td>DISTRICT158</td>\n",
       "      <td>STATE13</td>\n",
       "      <td>6</td>\n",
       "      <td>769</td>\n",
       "      <td>211</td>\n",
       "      <td>1338114.0</td>\n",
       "      <td>66.19</td>\n",
       "    </tr>\n",
       "    <tr>\n",
       "      <th>609</th>\n",
       "      <td>DISTRICT17</td>\n",
       "      <td>STATE20</td>\n",
       "      <td>4</td>\n",
       "      <td>359</td>\n",
       "      <td>59</td>\n",
       "      <td>9588910.0</td>\n",
       "      <td>88.48</td>\n",
       "    </tr>\n",
       "    <tr>\n",
       "      <th>53</th>\n",
       "      <td>DISTRICT126</td>\n",
       "      <td>STATE26</td>\n",
       "      <td>3</td>\n",
       "      <td>197</td>\n",
       "      <td>21</td>\n",
       "      <td>596294.0</td>\n",
       "      <td>68.90</td>\n",
       "    </tr>\n",
       "    <tr>\n",
       "      <th>81</th>\n",
       "      <td>DISTRICT45</td>\n",
       "      <td>STATE25</td>\n",
       "      <td>9</td>\n",
       "      <td>351</td>\n",
       "      <td>130</td>\n",
       "      <td>1742815.0</td>\n",
       "      <td>73.24</td>\n",
       "    </tr>\n",
       "    <tr>\n",
       "      <th>516</th>\n",
       "      <td>DISTRICT300</td>\n",
       "      <td>STATE9</td>\n",
       "      <td>5</td>\n",
       "      <td>651</td>\n",
       "      <td>84</td>\n",
       "      <td>590379.0</td>\n",
       "      <td>73.29</td>\n",
       "    </tr>\n",
       "    <tr>\n",
       "      <th>641</th>\n",
       "      <td>DISTRICT484</td>\n",
       "      <td>STATE6</td>\n",
       "      <td>15</td>\n",
       "      <td>333</td>\n",
       "      <td>83</td>\n",
       "      <td>1721179.0</td>\n",
       "      <td>74.92</td>\n",
       "    </tr>\n",
       "    <tr>\n",
       "      <th>650</th>\n",
       "      <td>DISTRICT145</td>\n",
       "      <td>STATE6</td>\n",
       "      <td>11</td>\n",
       "      <td>489</td>\n",
       "      <td>100</td>\n",
       "      <td>1614069.0</td>\n",
       "      <td>84.09</td>\n",
       "    </tr>\n",
       "    <tr>\n",
       "      <th>70</th>\n",
       "      <td>DISTRICT99</td>\n",
       "      <td>STATE25</td>\n",
       "      <td>4</td>\n",
       "      <td>279</td>\n",
       "      <td>43</td>\n",
       "      <td>558890.0</td>\n",
       "      <td>83.44</td>\n",
       "    </tr>\n",
       "    <tr>\n",
       "      <th>163</th>\n",
       "      <td>DISTRICT366</td>\n",
       "      <td>STATE21</td>\n",
       "      <td>9</td>\n",
       "      <td>1330</td>\n",
       "      <td>86</td>\n",
       "      <td>1579160.0</td>\n",
       "      <td>79.99</td>\n",
       "    </tr>\n",
       "  </tbody>\n",
       "</table>\n",
       "</div>"
      ],
      "text/plain": [
       "        DISTNAME STATNAME  BLOCKS  VILLAGES  CLUSTERS  TOTPOPULAT  OVERALL_LI\n",
       "661  DISTRICT528   STATE6       9       112        89   1863174.0       92.14\n",
       "216  DISTRICT291  STATE28      14      1188       165   3273127.0       52.49\n",
       "367   DISTRICT66  STATE23      12      1169       116   1042304.0       62.14\n",
       "254  DISTRICT458   STATE3       3       157        19     82839.0       76.33\n",
       "286  DISTRICT636  STATE35       3       187        44    514683.0       86.70\n",
       "369  DISTRICT512  STATE23       6       589        30    717169.0       68.35\n",
       "258  DISTRICT156   STATE3       6        80         9     35289.0       59.94\n",
       "10   DISTRICT412   STATE1      11       187        95    476820.0       68.69\n",
       "512  DISTRICT277   STATE9      10       558       179   2298934.0       84.31\n",
       "144  DISTRICT133  STATE21      14      1672       136   3673849.0       69.61\n",
       "325    DISTRICT1  STATE33       4       534        98    957853.0       69.37\n",
       "227  DISTRICT159  STATE28      18       870       134   2954367.0       66.23\n",
       "86   DISTRICT667  STATE25       5       396        75    896129.0       82.23\n",
       "425  DISTRICT144  STATE31       7      1064       108   2662077.0       71.59\n",
       "260  DISTRICT305   STATE3       2        62         6    145538.0       69.88\n",
       "281  DISTRICT385  STATE35       6       531        30    354972.0       75.00\n",
       "262  DISTRICT552   STATE3       3       103         4    111997.0       52.23\n",
       "253  DISTRICT168   STATE3       5       312        16    176385.0       82.14\n",
       "301  DISTRICT551  STATE14       9       103        63    693281.0       88.29\n",
       "356  DISTRICT494  STATE34      25      2179       223   3596292.0       70.95\n",
       "165  DISTRICT196  STATE21      10      1354       119   1795092.0       77.52\n",
       "565  DISTRICT308  STATE17       8       721       144    848868.0       86.54\n",
       "388  DISTRICT281  STATE23       6       392        58    949159.0       73.92\n",
       "461  DISTRICT619  STATE22       5       859        57   1064989.0       68.36\n",
       "384  DISTRICT455  STATE23       9      1217        55   1063458.0       68.85\n",
       "590   DISTRICT70  STATE20       7       427        84   1846993.0       80.30\n",
       "343  DISTRICT354  STATE33       2       192        46   1260419.0       88.66\n",
       "539  DISTRICT440  STATE17      15      1465       167   2887826.0       88.23\n",
       "459  DISTRICT431  STATE22       9      1778       143   2363744.0       73.42\n",
       "667  DISTRICT123  STATE11       3        80        16    237586.0       88.49\n",
       "387  DISTRICT231  STATE23       6       657        63    530299.0       64.51\n",
       "306   DISTRICT37   STATE4       7      1083        92    642923.0       68.38\n",
       "213  DISTRICT347  STATE28      11       623        94   2228397.0       59.65\n",
       "97    DISTRICT22   STATE2       7       182         7   2531583.0       87.12\n",
       "78   DISTRICT247  STATE25       7       314        60   1332042.0       72.73\n",
       "394  DISTRICT640  STATE24      17      1857       191   1802777.0       69.00\n",
       "184  DISTRICT596  STATE21      11      1281       108   2149066.0       51.76\n",
       "147  DISTRICT335  STATE21      17      1945       138   4380793.0       69.44\n",
       "542  DISTRICT489  STATE17       7       749        63   1198810.0       85.14\n",
       "105  DISTRICT157  STATE13      14      1994       508   3671999.0       71.68\n",
       "254  DISTRICT458   STATE3       3       157        19     82839.0       76.33\n",
       "109  DISTRICT158  STATE13       6       769       211   1338114.0       66.19\n",
       "609   DISTRICT17  STATE20       4       359        59   9588910.0       88.48\n",
       "53   DISTRICT126  STATE26       3       197        21    596294.0       68.90\n",
       "81    DISTRICT45  STATE25       9       351       130   1742815.0       73.24\n",
       "516  DISTRICT300   STATE9       5       651        84    590379.0       73.29\n",
       "641  DISTRICT484   STATE6      15       333        83   1721179.0       74.92\n",
       "650  DISTRICT145   STATE6      11       489       100   1614069.0       84.09\n",
       "70    DISTRICT99  STATE25       4       279        43    558890.0       83.44\n",
       "163  DISTRICT366  STATE21       9      1330        86   1579160.0       79.99"
      ]
     },
     "execution_count": 3,
     "metadata": {},
     "output_type": "execute_result"
    }
   ],
   "source": [
    "sampled_data = education_districtwise.sample(n=50, replace=True, random_state=31208)\n",
    "sampled_data "
   ]
  },
  {
   "cell_type": "markdown",
   "metadata": {
    "id": "uso453NsvEPb"
   },
   "source": [
    "The output shows 50 districts selected randomly from your dataset. Each has a different literacy rate, but note that row 254 was sampled twice, which is possible because you sampled with replacement. "
   ]
  },
  {
   "cell_type": "markdown",
   "metadata": {
    "id": "j47jIZzcvG4a"
   },
   "source": [
    "### Compute the sample mean\n",
    "\n",
    "Now that you have your random sample, use the mean function to compute the sample mean. First, name a new variable `estimate1`. Next, use `mean()` to compute the mean for your sample data. "
   ]
  },
  {
   "cell_type": "code",
   "execution_count": 4,
   "metadata": {
    "colab": {
     "base_uri": "https://localhost:8080/"
    },
    "id": "6QdiA8JzlM7K",
    "outputId": "edeefe49-e4ba-4cfa-ef54-f1eccf090de8"
   },
   "outputs": [
    {
     "data": {
      "text/plain": [
       "74.22359999999999"
      ]
     },
     "execution_count": 4,
     "metadata": {},
     "output_type": "execute_result"
    }
   ],
   "source": [
    "estimate1 = sampled_data['OVERALL_LI'].mean()\n",
    "estimate1"
   ]
  },
  {
   "cell_type": "markdown",
   "metadata": {
    "id": "dYqUPcl2nMn5"
   },
   "source": [
    "The sample mean for district literacy rate is about 74.22%. This is a point estimate of the population mean based on your random sample of 50 districts. Remember that the population mean is the literacy rate for *all* districts. Due to sampling variability, the sample mean is usually not exactly the same as the population mean. \n",
    "\n"
   ]
  },
  {
   "cell_type": "markdown",
   "metadata": {
    "id": "kIM892nfvzrj"
   },
   "source": [
    "Next, let’s find out what will happen if you compute the sample mean based on another random sample of 50 districts. \n",
    "\n",
    "To generate another random sample, name a new variable `estimate2`. Then, set the arguments for the sample function. Once again, `n` is `50` and `replace` is \"True.\" This time, choose a different number for your random seed to generate a different sample: 56,810. Finally, add `mean()` at the end of your line of code to compute the sample mean. "
   ]
  },
  {
   "cell_type": "code",
   "execution_count": 5,
   "metadata": {
    "colab": {
     "base_uri": "https://localhost:8080/"
    },
    "id": "tbrTRVqVnMFO",
    "outputId": "dcb0be3c-a9cf-4177-fb2a-e467596a3e1c"
   },
   "outputs": [
    {
     "data": {
      "text/plain": [
       "74.24780000000001"
      ]
     },
     "execution_count": 5,
     "metadata": {},
     "output_type": "execute_result"
    }
   ],
   "source": [
    "estimate2 = education_districtwise['OVERALL_LI'].sample(n=50, replace=True, random_state=56810).mean()\n",
    "estimate2"
   ]
  },
  {
   "cell_type": "markdown",
   "metadata": {
    "id": "6hzR-FcA3lQq"
   },
   "source": [
    "For your second estimate, the sample mean for district literacy rate is about 74.25%. \n",
    "\n",
    "Due to sampling variability, this sample mean is different from the sample mean of your previous estimate, 74.22% – but they’re really close."
   ]
  },
  {
   "cell_type": "markdown",
   "metadata": {
    "id": "A9_SWsdFpvgR"
   },
   "source": [
    "## The central limit theorem \n",
    "\n",
    "Recall that the **central limit theorem** tells you that when the sample size is large enough, the sample mean approaches a normal distribution. And, as you sample more observations from a population, the sample mean gets closer to the population mean. The larger your sample size, the more accurate your estimate of the population mean is likely to be. \n",
    "\n",
    "In this case, the population mean is the overall literacy rate for *all* districts in the nation. Earlier, you found that the population mean literacy rate is 73.39%. Based on sampling, your first estimated sample mean was 74.22%, and your second estimate was 74.24%. Each estimate is relatively close to the population mean. \n"
   ]
  },
  {
   "cell_type": "markdown",
   "metadata": {
    "id": "Z1l2L0gttB-w"
   },
   "source": [
    "### Compute the mean of a sampling distribution with 10,000 samples\n",
    "\n",
    "Now, imagine you repeat the study 10,000 times and obtain 10,000 point estimates of the mean. In other words, you take 10,000 random samples of 50 districts, and compute the mean for each sample. According to the central limit theorem, the mean of your sampling distribution will be roughly equal to the population mean. \n",
    "\n"
   ]
  },
  {
   "cell_type": "markdown",
   "metadata": {
    "id": "CzH14Tr6LnXH"
   },
   "source": [
    "You can use Python to compute the mean of the sampling distribution with 10,000 samples. \n",
    "\n",
    "Let’s go over the code step by step: \n",
    "\n",
    "\n",
    "1. Create an empty list to store the sample mean from each sample. Name this `estimate_list`.\n",
    "2. Set up a for-loop with the `range() `function. The `range()` function generates a sequence of numbers from 1 to 10,000. The loop will run 10,000 times, and iterate over each number in the sequence.\n",
    "3. Specify what you want to do in each iteration of the loop. The `sample()` function tells the computer to take a random sample of 50 districts with replacement–the argument `n` equals `50`, and the argument `replace` equals `True`. The `append() `function adds a single item to an existing list. In this case, it appends the value of the sample mean to each item in the list. Your code generates a list of 10,000 values, each of which is the sample mean from a random sample. \n",
    "4. Create a new data frame for your list of 10,000 estimates. Name a new variable `estimate_df` to store your data frame. \n",
    "\n",
    "\n",
    "\n",
    "\n"
   ]
  },
  {
   "cell_type": "code",
   "execution_count": 6,
   "metadata": {
    "id": "RpLdP5fdlM28"
   },
   "outputs": [],
   "source": [
    "estimate_list = []\n",
    "for i in range(10000):\n",
    "    estimate_list.append(education_districtwise['OVERALL_LI'].sample(n=50, replace=True).mean())\n",
    "estimate_df = pd.DataFrame(data={'estimate': estimate_list})"
   ]
  },
  {
   "cell_type": "markdown",
   "metadata": {
    "id": "i_pSiiSyBcY8"
   },
   "source": [
    "Note that, because you didn't specify a random seed for each loop iteration, by default the rows sampled will be different each time.\n",
    "\n",
    "Now, name a new variable `mean_sample_means` and compute the mean for your sampling distribution of 10,000 random samples. "
   ]
  },
  {
   "cell_type": "code",
   "execution_count": 7,
   "metadata": {
    "colab": {
     "base_uri": "https://localhost:8080/"
    },
    "id": "L2Ed72M6AUa7",
    "outputId": "10ab7e7c-38d9-40b5-8c91-bdc10f8cd538"
   },
   "outputs": [
    {
     "data": {
      "text/plain": [
       "73.4101935400001"
      ]
     },
     "execution_count": 7,
     "metadata": {},
     "output_type": "execute_result"
    }
   ],
   "source": [
    "mean_sample_means = estimate_df['estimate'].mean()\n",
    "mean_sample_means"
   ]
  },
  {
   "cell_type": "markdown",
   "metadata": {
    "id": "vqb0RBSSNMxv"
   },
   "source": [
    "The mean of your sampling distribution is about 73.4%."
   ]
  },
  {
   "cell_type": "markdown",
   "metadata": {
    "id": "6cOhFjWfgUUM"
   },
   "source": [
    "Compare this with the population mean of your complete dataset:"
   ]
  },
  {
   "cell_type": "code",
   "execution_count": 8,
   "metadata": {
    "colab": {
     "base_uri": "https://localhost:8080/"
    },
    "id": "05jfNClLBml_",
    "outputId": "94c29c94-bcb9-48f9-e0c4-0fca708be51f"
   },
   "outputs": [
    {
     "data": {
      "text/plain": [
       "73.39518927444797"
      ]
     },
     "execution_count": 8,
     "metadata": {},
     "output_type": "execute_result"
    }
   ],
   "source": [
    "population_mean = education_districtwise['OVERALL_LI'].mean()\n",
    "population_mean"
   ]
  },
  {
   "cell_type": "markdown",
   "metadata": {
    "id": "Z3yD-vKMNcj_"
   },
   "source": [
    "The mean of your sampling distribution is essentially identical to the population mean, which is also about 73.4%! "
   ]
  },
  {
   "cell_type": "markdown",
   "metadata": {
    "id": "PUmLRE1W2s9r"
   },
   "source": [
    "### Visualize your data\n",
    "\n",
    "To visualize the relationship between your sampling distribution of 10,000 estimates and the normal distribution, we can plot both at the same time. \n",
    "\n",
    "**Note**: The code for this plot is beyond the scope of this course. \n",
    "\n",
    " \n"
   ]
  },
  {
   "cell_type": "code",
   "execution_count": 9,
   "metadata": {
    "colab": {
     "base_uri": "https://localhost:8080/",
     "height": 295
    },
    "id": "PI2ZWKTy1D48",
    "outputId": "ce9e15e1-b53b-4c5e-add5-c8d98beb2804"
   },
   "outputs": [
    {
     "data": {
      "image/png": "[encoded data removed]",
      "text/plain": [
       "<Figure size 432x288 with 1 Axes>"
      ]
     },
     "metadata": {
      "needs_background": "light"
     },
     "output_type": "display_data"
    }
   ],
   "source": [
    "plt.hist(estimate_df['estimate'], bins=25, density=True, alpha=0.4, label = \"histogram of sample means of 10000 random samples\")\n",
    "xmin, xmax = plt.xlim()\n",
    "x = np.linspace(xmin, xmax, 100) # generate a grid of 100 values from xmin to xmax.\n",
    "p = stats.norm.pdf(x, mean_sample_means, stats.tstd(estimate_df['estimate']))\n",
    "plt.plot(x, p,'k', linewidth=2, label = 'normal curve from central limit theorem')\n",
    "plt.axvline(x=population_mean, color='g', linestyle = 'solid', label = 'population mean')\n",
    "plt.axvline(x=estimate1, color='r', linestyle = '--', label = 'sample mean of the first random sample')\n",
    "plt.axvline(x=mean_sample_means, color='b', linestyle = ':', label = 'mean of sample means of 10000 random samples')\n",
    "plt.title(\"Sampling distribution of sample mean\")\n",
    "plt.xlabel('sample mean')\n",
    "plt.ylabel('density')\n",
    "plt.legend(bbox_to_anchor=(1.04,1))\n",
    "plt.show()"
   ]
  },
  {
   "cell_type": "markdown",
   "metadata": {
    "id": "NRrDwu9W5EP2"
   },
   "source": [
    "There are three key takeaways from this graph:\n",
    "\n",
    "1.  As the central limit theorem predicts, the histogram of the sampling distribution is well approximated by the normal distribution. The outline of the histogram closely follows the normal curve.\n",
    "2. The mean of the sampling distribution, the blue dotted line, overlaps with the population mean, the green solid line. This shows that the two means are essentially equal to each other.  \n",
    "3. The sample mean of your first estimate of 50 districts, the red dashed line, is farther away from the center. This is due to sampling variability. \n"
   ]
  },
  {
   "cell_type": "markdown",
   "metadata": {
    "id": "eqZaU1BgAM1S"
   },
   "source": [
    "The central limit theorem shows that as you increase the sample size, your estimate becomes more accurate. For a large enough sample, the sample mean closely follows a normal distribution. \n",
    "\n",
    "Your first sample of 50 districts estimated the mean district literacy rate as 74.22%, which is relatively close to the population mean of 73.4%. \n",
    "\n",
    "To ensure your estimate will be useful to the government, you can compare the nation’s literacy rate to other benchmarks, such as the global literacy rate, or the literacy rate of peer nations. If the nation’s literacy rate is below these benchmarks, this may help convince the government to devote more resources to improving literacy across the country. \n"
   ]
  },
  {
   "cell_type": "markdown",
   "metadata": {
    "id": "k9t55xMV6UnS"
   },
   "source": [
    "**Congratulations!** You've completed this lab. However, you may not notice a green check mark next to this item on Coursera's platform. Please continue your progress regardless of the check mark. Just click on the \"save\" icon at the top of this notebook to ensure your work has been logged.\n",
    "\n",
    "You now understand how to use Python to simulate random sampling and make a point estimate of a population mean. Going forward, you can start using Python to work with your own sample data."
   ]
  }
 ],
 "metadata": {
  "colab": {
   "collapsed_sections": [],
   "provenance": [
    {
     "file_id": "1O_5zMwiCEHTBr2g5ACs4eUF65uGJ-eYJ",
     "timestamp": 1662733253709
    },
    {
     "file_id": "135OnDxR-lz2LyHXoKxqsA9A8QMmLVdIN",
     "timestamp": 1657824097282
    }
   ]
  },
  "kernelspec": {
   "display_name": "Python 3",
   "language": "python",
   "name": "python3"
  },
  "language_info": {
   "codemirror_mode": {
    "name": "ipython",
    "version": 3
   },
   "file_extension": ".py",
   "mimetype": "text/x-python",
   "name": "python",
   "nbconvert_exporter": "python",
   "pygments_lexer": "ipython3",
   "version": "3.7.6"
  }
 },
 "nbformat": 4,
 "nbformat_minor": 1
}
